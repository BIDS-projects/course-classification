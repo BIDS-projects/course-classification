{
 "cells": [
  {
   "cell_type": "code",
   "execution_count": 3,
   "metadata": {
    "collapsed": false
   },
   "outputs": [],
   "source": [
    "import numpy as np\n",
    "from datascience import *"
   ]
  },
  {
   "cell_type": "code",
   "execution_count": 18,
   "metadata": {
    "collapsed": false
   },
   "outputs": [
    {
     "data": {
      "text/html": [
       "<table border=\"1\" class=\"dataframe\">\n",
       "    <thead>\n",
       "        <tr>\n",
       "            <th>Type of Course</th> <th>ID</th> <th>Department</th> <th>Course #</th> <th>Course Name</th> <th>Units</th> <th>Tools</th> <th>Description</th> <th>Applied</th> <th>Meta</th> <th>Tool</th>\n",
       "        </tr>\n",
       "    </thead>\n",
       "    <tbody>\n",
       "        <tr>\n",
       "            <td>Method        </td> <td>1   </td> <td>African American Studies (AFRICAM)     </td> <td>101     </td> <td>Research Methods for African American Studies               </td> <td>5    </td> <td>nan  </td> <td>As an introduction to interdisciplinary research methods ...</td> <td>True   </td> <td>False</td> <td>False</td>\n",
       "        </tr>\n",
       "    </tbody>\n",
       "        <tr>\n",
       "            <td>Method        </td> <td>2   </td> <td>American Studies (AMERSTD)             </td> <td>C134    </td> <td>Information Technology and Society                          </td> <td>4    </td> <td>nan  </td> <td>This course assesses the role of information technology  ...</td> <td>False  </td> <td>True </td> <td>False</td>\n",
       "        </tr>\n",
       "    </tbody>\n",
       "        <tr>\n",
       "            <td>Core          </td> <td>3   </td> <td>Anthropology (ANTHRO)                  </td> <td>169A    </td> <td>Data Analysis and Computational Methods                     </td> <td>4    </td> <td>nan  </td> <td>This course capitalizes on a successful approach of usin ...</td> <td>True   </td> <td>False</td> <td>False</td>\n",
       "        </tr>\n",
       "    </tbody>\n",
       "        <tr>\n",
       "            <td>Method        </td> <td>4   </td> <td>Anthropology (ANTHRO)                  </td> <td>135     </td> <td>Paleoethnobotany: Archaeological Methods and Laboratory  ...</td> <td>4    </td> <td>nan  </td> <td>An introduction to the basic approaches and techniques i ...</td> <td>True   </td> <td>False</td> <td>False</td>\n",
       "        </tr>\n",
       "    </tbody>\n",
       "        <tr>\n",
       "            <td>Method        </td> <td>5   </td> <td>Anthropology (ANTHRO)                  </td> <td>169B    </td> <td>Research Theory and Methods in Socio-Cultural Anthropology  </td> <td>5    </td> <td>nan  </td> <td>Introduction to research problems and research design te ...</td> <td>True   </td> <td>True </td> <td>False</td>\n",
       "        </tr>\n",
       "    </tbody>\n",
       "        <tr>\n",
       "            <td>Method        </td> <td>6   </td> <td>Anthropology (ANTHRO)                  </td> <td>169C    </td> <td>Research Theory and Methods in Linguistic Anthropology      </td> <td>4    </td> <td>nan  </td> <td>This course provides an introduction to selected theorie ...</td> <td>True   </td> <td>False</td> <td>False</td>\n",
       "        </tr>\n",
       "    </tbody>\n",
       "        <tr>\n",
       "            <td>Method        </td> <td>7   </td> <td>Architecture (ARCH)                    </td> <td>154     </td> <td>Design and Computer Analysis of Structure                   </td> <td>3    </td> <td>nan  </td> <td>Design and analysis of whole structural building systems ...</td> <td>True   </td> <td>False</td> <td>False</td>\n",
       "        </tr>\n",
       "    </tbody>\n",
       "        <tr>\n",
       "            <td>Method        </td> <td>8   </td> <td>Asian American Studies Program (ASAMST)</td> <td>165     </td> <td>Research Methodologies in Asian American Communities        </td> <td>4    </td> <td>nan  </td> <td>Approaches to research in the Asian American community w ...</td> <td>True   </td> <td>False</td> <td>False</td>\n",
       "        </tr>\n",
       "    </tbody>\n",
       "        <tr>\n",
       "            <td>Core          </td> <td>9   </td> <td>Bioengineering (BIO ENG)               </td> <td>143     </td> <td>Computational Methods in Biology                            </td> <td>4    </td> <td>nan  </td> <td>An introduction to biophysical simulation methods and al ...</td> <td>True   </td> <td>False</td> <td>False</td>\n",
       "        </tr>\n",
       "    </tbody>\n",
       "        <tr>\n",
       "            <td>Method        </td> <td>10  </td> <td>Bioengineering (BIO ENG)               </td> <td>131     </td> <td>Introduction to Computational Molecular and Cell Biology    </td> <td>4    </td> <td>nan  </td> <td>Topics include computational approaches and techniques t ...</td> <td>True   </td> <td>False</td> <td>False</td>\n",
       "        </tr>\n",
       "    </tbody>\n",
       "</table>\n",
       "<p>... (142 rows omitted)</p"
      ],
      "text/plain": [
       "Type of Course | ID   | Department                              | Course # | Course Name                                                  | Units | Tools | Description                                                  | Applied | Meta  | Tool\n",
       "Method         | 1    | African American Studies (AFRICAM)      | 101      | Research Methods for African American Studies                | 5     | nan   | As an introduction to interdisciplinary research methods ... | True    | False | False\n",
       "Method         | 2    | American Studies (AMERSTD)              | C134     | Information Technology and Society                           | 4     | nan   | This course assesses the role of information technology  ... | False   | True  | False\n",
       "Core           | 3    | Anthropology (ANTHRO)                   | 169A     | Data Analysis and Computational Methods                      | 4     | nan   | This course capitalizes on a successful approach of usin ... | True    | False | False\n",
       "Method         | 4    | Anthropology (ANTHRO)                   | 135      | Paleoethnobotany: Archaeological Methods and Laboratory  ... | 4     | nan   | An introduction to the basic approaches and techniques i ... | True    | False | False\n",
       "Method         | 5    | Anthropology (ANTHRO)                   | 169B     | Research Theory and Methods in Socio-Cultural Anthropology   | 5     | nan   | Introduction to research problems and research design te ... | True    | True  | False\n",
       "Method         | 6    | Anthropology (ANTHRO)                   | 169C     | Research Theory and Methods in Linguistic Anthropology       | 4     | nan   | This course provides an introduction to selected theorie ... | True    | False | False\n",
       "Method         | 7    | Architecture (ARCH)                     | 154      | Design and Computer Analysis of Structure                    | 3     | nan   | Design and analysis of whole structural building systems ... | True    | False | False\n",
       "Method         | 8    | Asian American Studies Program (ASAMST) | 165      | Research Methodologies in Asian American Communities         | 4     | nan   | Approaches to research in the Asian American community w ... | True    | False | False\n",
       "Core           | 9    | Bioengineering (BIO ENG)                | 143      | Computational Methods in Biology                             | 4     | nan   | An introduction to biophysical simulation methods and al ... | True    | False | False\n",
       "Method         | 10   | Bioengineering (BIO ENG)                | 131      | Introduction to Computational Molecular and Cell Biology     | 4     | nan   | Topics include computational approaches and techniques t ... | True    | False | False\n",
       "... (142 rows omitted)"
      ]
     },
     "execution_count": 18,
     "metadata": {},
     "output_type": "execute_result"
    }
   ],
   "source": [
    "classified_courses = Table().read_table('classified_courses-2.csv').drop('Prerequisites')\n",
    "classified_courses"
   ]
  },
  {
   "cell_type": "code",
   "execution_count": 19,
   "metadata": {
    "collapsed": false
   },
   "outputs": [
    {
     "data": {
      "text/html": [
       "<table border=\"1\" class=\"dataframe\">\n",
       "    <thead>\n",
       "        <tr>\n",
       "            <th>Course Name</th> <th>Prerequisites</th>\n",
       "        </tr>\n",
       "    </thead>\n",
       "    <tbody>\n",
       "        <tr>\n",
       "            <td>Research Methods for African American Studies               </td> <td>STAT 2 or STAT 20</td>\n",
       "        </tr>\n",
       "    </tbody>\n",
       "        <tr>\n",
       "            <td>Information Technology and Society                          </td> <td>None             </td>\n",
       "        </tr>\n",
       "    </tbody>\n",
       "        <tr>\n",
       "            <td>Data Analysis and Computational Methods                     </td> <td>ANTHRO 2         </td>\n",
       "        </tr>\n",
       "    </tbody>\n",
       "        <tr>\n",
       "            <td>Paleoethnobotany: Archaeological Methods and Laboratory  ...</td> <td>ANTHRO 2         </td>\n",
       "        </tr>\n",
       "    </tbody>\n",
       "        <tr>\n",
       "            <td>Research Theory and Methods in Socio-Cultural Anthropology  </td> <td>ANTHRO 3         </td>\n",
       "        </tr>\n",
       "    </tbody>\n",
       "        <tr>\n",
       "            <td>Research Theory and Methods in Linguistic Anthropology      </td> <td>None             </td>\n",
       "        </tr>\n",
       "    </tbody>\n",
       "        <tr>\n",
       "            <td>Design and Computer Analysis of Structure                   </td> <td>ARCH 150         </td>\n",
       "        </tr>\n",
       "    </tbody>\n",
       "        <tr>\n",
       "            <td>Research Methodologies in Asian American Communities        </td> <td>ASAMST 20A or 20B</td>\n",
       "        </tr>\n",
       "    </tbody>\n",
       "        <tr>\n",
       "            <td>Computational Methods in Biology                            </td> <td>MATH 53, MATH 54 </td>\n",
       "        </tr>\n",
       "    </tbody>\n",
       "        <tr>\n",
       "            <td>Introduction to Computational Molecular and Cell Biology    </td> <td>MATH 54, BIO 1A  </td>\n",
       "        </tr>\n",
       "    </tbody>\n",
       "</table>\n",
       "<p>... (993 rows omitted)</p"
      ],
      "text/plain": [
       "Course Name                                                  | Prerequisites\n",
       "Research Methods for African American Studies                | STAT 2 or STAT 20\n",
       "Information Technology and Society                           | None\n",
       "Data Analysis and Computational Methods                      | ANTHRO 2\n",
       "Paleoethnobotany: Archaeological Methods and Laboratory  ... | ANTHRO 2\n",
       "Research Theory and Methods in Socio-Cultural Anthropology   | ANTHRO 3\n",
       "Research Theory and Methods in Linguistic Anthropology       | None\n",
       "Design and Computer Analysis of Structure                    | ARCH 150\n",
       "Research Methodologies in Asian American Communities         | ASAMST 20A or 20B\n",
       "Computational Methods in Biology                             | MATH 53, MATH 54\n",
       "Introduction to Computational Molecular and Cell Biology     | MATH 54, BIO 1A\n",
       "... (993 rows omitted)"
      ]
     },
     "execution_count": 19,
     "metadata": {},
     "output_type": "execute_result"
    }
   ],
   "source": [
    "prerequisites = Table().read_table('only_prereqs.csv').select(['Course Name', 'Prerequisites'])\n",
    "prerequisites"
   ]
  },
  {
   "cell_type": "markdown",
   "metadata": {},
   "source": [
    "What forms of collaboration do we already see in the competitive ecosystem of data science? \n",
    "    From our analysis, what can we recommend?"
   ]
  },
  {
   "cell_type": "code",
   "execution_count": 22,
   "metadata": {
    "collapsed": false
   },
   "outputs": [
    {
     "data": {
      "text/html": [
       "<table border=\"1\" class=\"dataframe\">\n",
       "    <thead>\n",
       "        <tr>\n",
       "            <th>Course Name</th> <th>Type of Course</th> <th>ID</th> <th>Department</th> <th>Course #</th> <th>Units</th> <th>Tools</th> <th>Description</th> <th>Applied</th> <th>Meta</th> <th>Tool</th> <th>Prerequisites</th>\n",
       "        </tr>\n",
       "    </thead>\n",
       "    <tbody>\n",
       "        <tr>\n",
       "            <td> Probability and Risk Analysis for Engineers   </td> <td>Method        </td> <td>76  </td> <td>Industrial Engineering and Operations Research (IND ENG)</td> <td>172     </td> <td>3    </td> <td>nan                     </td> <td>Training in the discrimination and transcription of the  ...</td> <td>True   </td> <td>False</td> <td>True </td> <td>MATH 1A - MATH 1B or MATH 16A - MATH 16B                    </td>\n",
       "        </tr>\n",
       "    </tbody>\n",
       "        <tr>\n",
       "            <td>Advanced Methods: In-depth Interviewing        </td> <td>Method        </td> <td>131 </td> <td>Sociology (SOCIOL)                                      </td> <td>108     </td> <td>4    </td> <td>nan                     </td> <td>A coordinated treatment of linear and generalized linear ...</td> <td>True   </td> <td>False</td> <td>False</td> <td>SOC 5                                                       </td>\n",
       "        </tr>\n",
       "    </tbody>\n",
       "        <tr>\n",
       "            <td>Advanced Programming with MATLAB               </td> <td>Core          </td> <td>52  </td> <td>Engineering (ENGIN)                                     </td> <td>177     </td> <td>3    </td> <td>nan                     </td> <td>An examination of the environmental effects of globaliza ...</td> <td>False  </td> <td>False</td> <td>True </td> <td>E 7, MATH 53, MATH 54, Upper division standing              </td>\n",
       "        </tr>\n",
       "    </tbody>\n",
       "        <tr>\n",
       "            <td>Advanced Topics in Learning and Decision Making</td> <td>Method        </td> <td>146 </td> <td>Statistics (STAT)                                       </td> <td>241B    </td> <td>3    </td> <td>nan                     </td> <td>nan                                                         </td> <td>False  </td> <td>True </td> <td>False</td> <td>CS C281A, STAT C241A                                        </td>\n",
       "        </tr>\n",
       "    </tbody>\n",
       "        <tr>\n",
       "            <td>Analytical Methods for Non-proliferation       </td> <td>Method        </td> <td>105 </td> <td>Nuclear Engineering (NUC ENG)                           </td> <td>130     </td> <td>4    </td> <td>R                       </td> <td>The class covers research design, statistical reasoning, ...</td> <td>True   </td> <td>False</td> <td>False</td> <td>NUC ENG 101                                                 </td>\n",
       "        </tr>\n",
       "    </tbody>\n",
       "        <tr>\n",
       "            <td>Applied Econometrics and Public Policy         </td> <td>Method        </td> <td>44  </td> <td>Economics (ECON)                                        </td> <td>C142    </td> <td>4    </td> <td>Bash, Git, Python, LaTex</td> <td>The course builds an understanding, demonstrates enginee ...</td> <td>True   </td> <td>True </td> <td>False</td> <td>ECON 140 or ECON 141 or consent of instructor               </td>\n",
       "        </tr>\n",
       "    </tbody>\n",
       "        <tr>\n",
       "            <td>Bacterial Pathogenesis                         </td> <td>Method        </td> <td>100 </td> <td>Molecular and Cell Biology (MCELLBI)                    </td> <td>C103    </td> <td>3    </td> <td>nan                     </td> <td>Basic principles and techniques used in human and animal ...</td> <td>False  </td> <td>False</td> <td>False</td> <td>MCB C100A, CHEM C130 or MCB 102                             </td>\n",
       "        </tr>\n",
       "    </tbody>\n",
       "        <tr>\n",
       "            <td>Biophysical Neurobiology                       </td> <td>Method        </td> <td>103 </td> <td>Molecular and Cell Biology (MCELLBI)                    </td> <td>166     </td> <td>3    </td> <td>nan                     </td> <td>Introductory scientific programming in Python with examp ...</td> <td>False  </td> <td>False</td> <td>False</td> <td>BIO 1A/1AL, PHYS 8A - PHYS 8B, CHEM 1A, CHEM 3A/3AL - CH ...</td>\n",
       "        </tr>\n",
       "    </tbody>\n",
       "        <tr>\n",
       "            <td>C for Programmers                              </td> <td>Method        </td> <td>23  </td> <td>Computer Science (COMPSCI)                              </td> <td>9C      </td> <td>2    </td> <td>Scheme, SQL, Python     </td> <td>Introduction to programming and computer science. This c ...</td> <td>False  </td> <td>False</td> <td>True </td> <td>CS 9B or CS 61A or E7                                       </td>\n",
       "        </tr>\n",
       "    </tbody>\n",
       "        <tr>\n",
       "            <td>C++ for Programmers                            </td> <td>Method        </td> <td>29  </td> <td>Computer Science (COMPSCI)                              </td> <td>9F      </td> <td>2    </td> <td>MATLAB                  </td> <td>Examination of the impact of policies of state intervent ...</td> <td>False  </td> <td>False</td> <td>True </td> <td>CS 61A                                                      </td>\n",
       "        </tr>\n",
       "    </tbody>\n",
       "</table>\n",
       "<p>... (142 rows omitted)</p"
      ],
      "text/plain": [
       "Course Name                                     | Type of Course | ID   | Department                                               | Course # | Units | Tools                    | Description                                                  | Applied | Meta  | Tool  | Prerequisites\n",
       " Probability and Risk Analysis for Engineers    | Method         | 76   | Industrial Engineering and Operations Research (IND ENG) | 172      | 3     | nan                      | Training in the discrimination and transcription of the  ... | True    | False | True  | MATH 1A - MATH 1B or MATH 16A - MATH 16B\n",
       "Advanced Methods: In-depth Interviewing         | Method         | 131  | Sociology (SOCIOL)                                       | 108      | 4     | nan                      | A coordinated treatment of linear and generalized linear ... | True    | False | False | SOC 5\n",
       "Advanced Programming with MATLAB                | Core           | 52   | Engineering (ENGIN)                                      | 177      | 3     | nan                      | An examination of the environmental effects of globaliza ... | False   | False | True  | E 7, MATH 53, MATH 54, Upper division standing\n",
       "Advanced Topics in Learning and Decision Making | Method         | 146  | Statistics (STAT)                                        | 241B     | 3     | nan                      | nan                                                          | False   | True  | False | CS C281A, STAT C241A\n",
       "Analytical Methods for Non-proliferation        | Method         | 105  | Nuclear Engineering (NUC ENG)                            | 130      | 4     | R                        | The class covers research design, statistical reasoning, ... | True    | False | False | NUC ENG 101\n",
       "Applied Econometrics and Public Policy          | Method         | 44   | Economics (ECON)                                         | C142     | 4     | Bash, Git, Python, LaTex | The course builds an understanding, demonstrates enginee ... | True    | True  | False | ECON 140 or ECON 141 or consent of instructor\n",
       "Bacterial Pathogenesis                          | Method         | 100  | Molecular and Cell Biology (MCELLBI)                     | C103     | 3     | nan                      | Basic principles and techniques used in human and animal ... | False   | False | False | MCB C100A, CHEM C130 or MCB 102\n",
       "Biophysical Neurobiology                        | Method         | 103  | Molecular and Cell Biology (MCELLBI)                     | 166      | 3     | nan                      | Introductory scientific programming in Python with examp ... | False   | False | False | BIO 1A/1AL, PHYS 8A - PHYS 8B, CHEM 1A, CHEM 3A/3AL - CH ...\n",
       "C for Programmers                               | Method         | 23   | Computer Science (COMPSCI)                               | 9C       | 2     | Scheme, SQL, Python      | Introduction to programming and computer science. This c ... | False   | False | True  | CS 9B or CS 61A or E7\n",
       "C++ for Programmers                             | Method         | 29   | Computer Science (COMPSCI)                               | 9F       | 2     | MATLAB                   | Examination of the impact of policies of state intervent ... | False   | False | True  | CS 61A\n",
       "... (142 rows omitted)"
      ]
     },
     "execution_count": 22,
     "metadata": {},
     "output_type": "execute_result"
    }
   ],
   "source": [
    "with_prereqs = classified_courses.join('Course Name', prerequisites)\n",
    "with_prereqs"
   ]
  },
  {
   "cell_type": "code",
   "execution_count": 23,
   "metadata": {
    "collapsed": false
   },
   "outputs": [],
   "source": [
    "with_prereqs.to_df().to_csv('courses_with_prerequisites.csv', index = False)"
   ]
  },
  {
   "cell_type": "code",
   "execution_count": null,
   "metadata": {
    "collapsed": true
   },
   "outputs": [],
   "source": []
  }
 ],
 "metadata": {
  "kernelspec": {
   "display_name": "Python 3",
   "language": "python",
   "name": "python3"
  },
  "language_info": {
   "codemirror_mode": {
    "name": "ipython",
    "version": 3
   },
   "file_extension": ".py",
   "mimetype": "text/x-python",
   "name": "python",
   "nbconvert_exporter": "python",
   "pygments_lexer": "ipython3",
   "version": "3.5.1"
  }
 },
 "nbformat": 4,
 "nbformat_minor": 0
}
