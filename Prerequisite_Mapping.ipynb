{
 "cells": [
  {
   "cell_type": "code",
   "execution_count": 21,
   "metadata": {
    "collapsed": false
   },
   "outputs": [],
   "source": [
    "import numpy as np\n",
    "from datascience import *"
   ]
  },
  {
   "cell_type": "code",
   "execution_count": 22,
   "metadata": {
    "collapsed": false
   },
   "outputs": [
    {
     "data": {
      "text/html": [
       "<table border=\"1\" class=\"dataframe\">\n",
       "    <thead>\n",
       "        <tr>\n",
       "            <th>Course Dept</th> <th>Course #</th> <th>Name</th> <th># of Units</th> <th>Tools</th> <th>Description</th> <th>Applied</th> <th>Meta</th> <th>Tool</th> <th>Course Cluster Classification</th> <th>index</th>\n",
       "        </tr>\n",
       "    </thead>\n",
       "    <tbody>\n",
       "        <tr>\n",
       "            <td>African American Studies (AFRICAM)           </td> <td>101     </td> <td>Research Methods for African American Studies             </td> <td>5         </td> <td>nan  </td> <td>As an introduction to interdisciplinary research methods ...</td> <td>True   </td> <td>False</td> <td>False</td> <td>Humanities                   </td> <td>1    </td>\n",
       "        </tr>\n",
       "    </tbody>\n",
       "        <tr>\n",
       "            <td>American Studies (AMERSTD)                   </td> <td>C134    </td> <td>Information Technology and Society                        </td> <td>4         </td> <td>nan  </td> <td>This course assesses the role of information technology  ...</td> <td>False  </td> <td>True </td> <td>False</td> <td>Humanities                   </td> <td>2    </td>\n",
       "        </tr>\n",
       "    </tbody>\n",
       "        <tr>\n",
       "            <td>Anthropology (ANTHRO)                        </td> <td>169A    </td> <td>Data Analysis and Computational Methods                   </td> <td>4         </td> <td>nan  </td> <td>This course capitalizes on a successful approach of usin ...</td> <td>True   </td> <td>False</td> <td>False</td> <td>Social Sciences              </td> <td>3    </td>\n",
       "        </tr>\n",
       "    </tbody>\n",
       "        <tr>\n",
       "            <td>Anthropology (ANTHRO)                        </td> <td>169B    </td> <td>Research Theory and Methods in Socio-Cultural Anthropology</td> <td>5         </td> <td>nan  </td> <td>Introduction to research problems and research design te ...</td> <td>True   </td> <td>True </td> <td>False</td> <td>Social Sciences              </td> <td>4    </td>\n",
       "        </tr>\n",
       "    </tbody>\n",
       "        <tr>\n",
       "            <td>Anthropology (ANTHRO)                        </td> <td>169C    </td> <td>Research Theory and Methods in Linguistic Anthropology    </td> <td>4         </td> <td>nan  </td> <td>This course provides an introduction to selected theorie ...</td> <td>True   </td> <td>False</td> <td>False</td> <td>Social Sciences              </td> <td>5    </td>\n",
       "        </tr>\n",
       "    </tbody>\n",
       "        <tr>\n",
       "            <td>Architecture (ARCH)                          </td> <td>154     </td> <td>Design and Computer Analysis of Structure                 </td> <td>3         </td> <td>nan  </td> <td>Design and analysis of whole structural building systems ...</td> <td>True   </td> <td>False</td> <td>False</td> <td>nan                          </td> <td>6    </td>\n",
       "        </tr>\n",
       "    </tbody>\n",
       "        <tr>\n",
       "            <td>Asian American Studies Program (ASAMST)      </td> <td>165     </td> <td>Research Methodologies in Asian American Communities      </td> <td>4         </td> <td>nan  </td> <td>Approaches to research in the Asian American community w ...</td> <td>True   </td> <td>False</td> <td>False</td> <td>Humanities                   </td> <td>7    </td>\n",
       "        </tr>\n",
       "    </tbody>\n",
       "        <tr>\n",
       "            <td>Bioengineering (BIO ENG)                     </td> <td>131     </td> <td>Introduction to Computational Molecular and Cell Biology  </td> <td>4         </td> <td>nan  </td> <td>Topics include computational approaches and techniques t ...</td> <td>True   </td> <td>False</td> <td>False</td> <td>Biological Science           </td> <td>8    </td>\n",
       "        </tr>\n",
       "    </tbody>\n",
       "        <tr>\n",
       "            <td>Bioengineering (BIO ENG)                     </td> <td>143     </td> <td>Computational Methods in Biology                          </td> <td>4         </td> <td>nan  </td> <td>An introduction to biophysical simulation methods and al ...</td> <td>True   </td> <td>False</td> <td>False</td> <td>Biological Science           </td> <td>9    </td>\n",
       "        </tr>\n",
       "    </tbody>\n",
       "        <tr>\n",
       "            <td>Civil and Environmental Engineering (CIV ENG)</td> <td>88      </td> <td>Data Science for Smart Cities                             </td> <td>2         </td> <td>nan  </td> <td>Cities become more dependent on the data flows that conn ...</td> <td>False  </td> <td>True </td> <td>True </td> <td>Engineering                  </td> <td>10   </td>\n",
       "        </tr>\n",
       "    </tbody>\n",
       "</table>\n",
       "<p>... (120 rows omitted)</p"
      ],
      "text/plain": [
       "Course Dept                                   | Course # | Name                                                       | # of Units | Tools | Description                                                  | Applied | Meta  | Tool  | Course Cluster Classification | index\n",
       "African American Studies (AFRICAM)            | 101      | Research Methods for African American Studies              | 5          | nan   | As an introduction to interdisciplinary research methods ... | True    | False | False | Humanities                    | 1\n",
       "American Studies (AMERSTD)                    | C134     | Information Technology and Society                         | 4          | nan   | This course assesses the role of information technology  ... | False   | True  | False | Humanities                    | 2\n",
       "Anthropology (ANTHRO)                         | 169A     | Data Analysis and Computational Methods                    | 4          | nan   | This course capitalizes on a successful approach of usin ... | True    | False | False | Social Sciences               | 3\n",
       "Anthropology (ANTHRO)                         | 169B     | Research Theory and Methods in Socio-Cultural Anthropology | 5          | nan   | Introduction to research problems and research design te ... | True    | True  | False | Social Sciences               | 4\n",
       "Anthropology (ANTHRO)                         | 169C     | Research Theory and Methods in Linguistic Anthropology     | 4          | nan   | This course provides an introduction to selected theorie ... | True    | False | False | Social Sciences               | 5\n",
       "Architecture (ARCH)                           | 154      | Design and Computer Analysis of Structure                  | 3          | nan   | Design and analysis of whole structural building systems ... | True    | False | False | nan                           | 6\n",
       "Asian American Studies Program (ASAMST)       | 165      | Research Methodologies in Asian American Communities       | 4          | nan   | Approaches to research in the Asian American community w ... | True    | False | False | Humanities                    | 7\n",
       "Bioengineering (BIO ENG)                      | 131      | Introduction to Computational Molecular and Cell Biology   | 4          | nan   | Topics include computational approaches and techniques t ... | True    | False | False | Biological Science            | 8\n",
       "Bioengineering (BIO ENG)                      | 143      | Computational Methods in Biology                           | 4          | nan   | An introduction to biophysical simulation methods and al ... | True    | False | False | Biological Science            | 9\n",
       "Civil and Environmental Engineering (CIV ENG) | 88       | Data Science for Smart Cities                              | 2          | nan   | Cities become more dependent on the data flows that conn ... | False   | True  | True  | Engineering                   | 10\n",
       "... (120 rows omitted)"
      ]
     },
     "execution_count": 22,
     "metadata": {},
     "output_type": "execute_result"
    }
   ],
   "source": [
    "classified_courses = Table().read_table('Interdisciplinary_Data_Science_Courses.csv')\n",
    "classified_courses = classified_courses.with_column('index', np.arange(1, 131))\n",
    "classified_courses"
   ]
  },
  {
   "cell_type": "code",
   "execution_count": 28,
   "metadata": {
    "collapsed": false
   },
   "outputs": [
    {
     "data": {
      "text/html": [
       "<table border=\"1\" class=\"dataframe\">\n",
       "    <thead>\n",
       "        <tr>\n",
       "            <th>Course Name</th> <th>Prerequisites</th>\n",
       "        </tr>\n",
       "    </thead>\n",
       "    <tbody>\n",
       "        <tr>\n",
       "            <td>Research Methods for African American Studies               </td> <td>STAT 2 or STAT 20</td>\n",
       "        </tr>\n",
       "    </tbody>\n",
       "        <tr>\n",
       "            <td>Information Technology and Society                          </td> <td>None             </td>\n",
       "        </tr>\n",
       "    </tbody>\n",
       "        <tr>\n",
       "            <td>Data Analysis and Computational Methods                     </td> <td>ANTHRO 2         </td>\n",
       "        </tr>\n",
       "    </tbody>\n",
       "        <tr>\n",
       "            <td>Paleoethnobotany: Archaeological Methods and Laboratory  ...</td> <td>ANTHRO 2         </td>\n",
       "        </tr>\n",
       "    </tbody>\n",
       "        <tr>\n",
       "            <td>Research Theory and Methods in Socio-Cultural Anthropology  </td> <td>ANTHRO 3         </td>\n",
       "        </tr>\n",
       "    </tbody>\n",
       "        <tr>\n",
       "            <td>Research Theory and Methods in Linguistic Anthropology      </td> <td>None             </td>\n",
       "        </tr>\n",
       "    </tbody>\n",
       "        <tr>\n",
       "            <td>Design and Computer Analysis of Structure                   </td> <td>ARCH 150         </td>\n",
       "        </tr>\n",
       "    </tbody>\n",
       "        <tr>\n",
       "            <td>Research Methodologies in Asian American Communities        </td> <td>ASAMST 20A or 20B</td>\n",
       "        </tr>\n",
       "    </tbody>\n",
       "        <tr>\n",
       "            <td>Computational Methods in Biology                            </td> <td>MATH 53, MATH 54 </td>\n",
       "        </tr>\n",
       "    </tbody>\n",
       "        <tr>\n",
       "            <td>Introduction to Computational Molecular and Cell Biology    </td> <td>MATH 54, BIO 1A  </td>\n",
       "        </tr>\n",
       "    </tbody>\n",
       "</table>\n",
       "<p>... (154 rows omitted)</p"
      ],
      "text/plain": [
       "Course Name                                                  | Prerequisites\n",
       "Research Methods for African American Studies                | STAT 2 or STAT 20\n",
       "Information Technology and Society                           | None\n",
       "Data Analysis and Computational Methods                      | ANTHRO 2\n",
       "Paleoethnobotany: Archaeological Methods and Laboratory  ... | ANTHRO 2\n",
       "Research Theory and Methods in Socio-Cultural Anthropology   | ANTHRO 3\n",
       "Research Theory and Methods in Linguistic Anthropology       | None\n",
       "Design and Computer Analysis of Structure                    | ARCH 150\n",
       "Research Methodologies in Asian American Communities         | ASAMST 20A or 20B\n",
       "Computational Methods in Biology                             | MATH 53, MATH 54\n",
       "Introduction to Computational Molecular and Cell Biology     | MATH 54, BIO 1A\n",
       "... (154 rows omitted)"
      ]
     },
     "execution_count": 28,
     "metadata": {},
     "output_type": "execute_result"
    }
   ],
   "source": [
    "prerequisites = Table().read_table('only_prereqs.csv').select(['Course Name', 'Prerequisites'])\n",
    "prerequisites = prerequisites.take(np.arange(164))\n",
    "prerequisites"
   ]
  },
  {
   "cell_type": "code",
   "execution_count": 29,
   "metadata": {
    "collapsed": false
   },
   "outputs": [
    {
     "data": {
      "text/html": [
       "<table border=\"1\" class=\"dataframe\">\n",
       "    <thead>\n",
       "        <tr>\n",
       "            <th>Course Name</th> <th>Prerequisites</th>\n",
       "        </tr>\n",
       "    </thead>\n",
       "    <tbody>\n",
       "        <tr>\n",
       "            <td>How Does History Count?</td> <td>DATA 8       </td>\n",
       "        </tr>\n",
       "    </tbody>\n",
       "</table>"
      ],
      "text/plain": [
       "Course Name             | Prerequisites\n",
       "How Does History Count? | DATA 8"
      ]
     },
     "execution_count": 29,
     "metadata": {},
     "output_type": "execute_result"
    }
   ],
   "source": [
    "prerequisites.where('Course Name', 'How Does History Count?')"
   ]
  },
  {
   "cell_type": "code",
   "execution_count": 31,
   "metadata": {
    "collapsed": false
   },
   "outputs": [
    {
     "data": {
      "text/plain": [
       "164"
      ]
     },
     "execution_count": 31,
     "metadata": {},
     "output_type": "execute_result"
    }
   ],
   "source": [
    "len(prerequisites.column('Course Name'))"
   ]
  },
  {
   "cell_type": "markdown",
   "metadata": {},
   "source": [
    "What forms of collaboration do we already see in the competitive ecosystem of data science? \n",
    "    From our analysis, what can we recommend?"
   ]
  },
  {
   "cell_type": "code",
   "execution_count": 32,
   "metadata": {
    "collapsed": false
   },
   "outputs": [
    {
     "data": {
      "text/plain": [
       "[]"
      ]
     },
     "execution_count": 32,
     "metadata": {},
     "output_type": "execute_result"
    }
   ],
   "source": [
    "with_prereqs = classified_courses.join('Name', prerequisites, 'Course Name')\n",
    "with_prereqs\n",
    "\n",
    "\n",
    "\n",
    "index_col = with_prereqs.column('index')\n",
    "not_there = []\n",
    "for i in np.arange(1, 131):\n",
    "    if i not in index_col:\n",
    "        not_there.append(i)\n",
    "not_there"
   ]
  },
  {
   "cell_type": "code",
   "execution_count": 34,
   "metadata": {
    "collapsed": false
   },
   "outputs": [],
   "source": [
    "lst = []\n",
    "for i in not_there:\n",
    "    lst.append(classified_courses.where('index', i).column('Name').item(0))"
   ]
  },
  {
   "cell_type": "code",
   "execution_count": 48,
   "metadata": {
    "collapsed": false
   },
   "outputs": [
    {
     "data": {
      "text/plain": [
       "115"
      ]
     },
     "execution_count": 48,
     "metadata": {},
     "output_type": "execute_result"
    }
   ],
   "source": []
  },
  {
   "cell_type": "code",
   "execution_count": 35,
   "metadata": {
    "collapsed": false
   },
   "outputs": [],
   "source": [
    "with_prereqs.to_df().to_csv('courses_with_prerequisites.csv', index = False)"
   ]
  }
 ],
 "metadata": {
  "kernelspec": {
   "display_name": "Python 3",
   "language": "python",
   "name": "python3"
  },
  "language_info": {
   "codemirror_mode": {
    "name": "ipython",
    "version": 3
   },
   "file_extension": ".py",
   "mimetype": "text/x-python",
   "name": "python",
   "nbconvert_exporter": "python",
   "pygments_lexer": "ipython3",
   "version": "3.5.1"
  }
 },
 "nbformat": 4,
 "nbformat_minor": 0
}
